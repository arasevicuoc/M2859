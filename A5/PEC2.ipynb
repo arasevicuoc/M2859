{
 "cells": [
  {
   "cell_type": "markdown",
   "id": "5f5c8b33",
   "metadata": {},
   "source": [
    "# PEC 2: Generación de visualizaciones\n",
    "\n",
    "Aunque en la asignatura se han discutido y presentado varios programas para la creación de visualizaciones, personalmente he preferido utilizar Python para las tres visualizaciones solicitadas por dos motivos: mi experiencia con el lenguaje y por la posibilidad de centralizar el proceso en un único ejecutable, de forma que además de las visualizaciones mostradas en el vídeo, se añadan opciones como la interactividad o aclaraciones sobre el proceso de creación en los comentarios del código."
   ]
  },
  {
   "cell_type": "code",
   "execution_count": 189,
   "id": "606ecb18",
   "metadata": {},
   "outputs": [
    {
     "data": {
      "application/vnd.plotly.v1+json": {
       "config": {
        "plotlyServerURL": "https://plot.ly"
       },
       "data": [
        {
         "branchvalues": "total",
         "domain": {
          "x": [
           0,
           1
          ],
          "y": [
           0,
           1
          ]
         },
         "hovertemplate": "labels=%{label}<br>total adjusted supply=%{value}<br>parent=%{parent}<br>id=%{id}<extra></extra>",
         "ids": [
          "E Asia & Oceania/Fish & Seafood",
          "EMEA/Fish & Seafood",
          "Europe/Fish & Seafood",
          "L Am/Fish & Seafood",
          "N Am/Fish & Seafood",
          "S Asia/Fish & Seafood",
          "SSAfrica/Fish & Seafood",
          "E Asia & Oceania/Fruit",
          "EMEA/Fruit",
          "Europe/Fruit",
          "L Am/Fruit",
          "N Am/Fruit",
          "S Asia/Fruit",
          "SSAfrica/Fruit",
          "E Asia & Oceania/Legumes",
          "EMEA/Legumes",
          "Europe/Legumes",
          "L Am/Legumes",
          "N Am/Legumes",
          "S Asia/Legumes",
          "SSAfrica/Legumes",
          "E Asia & Oceania/Poultry",
          "EMEA/Poultry",
          "Europe/Poultry",
          "L Am/Poultry",
          "N Am/Poultry",
          "S Asia/Poultry",
          "SSAfrica/Poultry",
          "E Asia & Oceania/Startch Veg",
          "EMEA/Startch Veg",
          "Europe/Startch Veg",
          "L Am/Startch Veg",
          "N Am/Startch Veg",
          "S Asia/Startch Veg",
          "SSAfrica/Startch Veg",
          "E Asia & Oceania/Vegetables",
          "EMEA/Vegetables",
          "Europe/Vegetables",
          "L Am/Vegetables",
          "N Am/Vegetables",
          "S Asia/Vegetables",
          "SSAfrica/Vegetables",
          "E Asia & Oceania/Whole Grains",
          "EMEA/Whole Grains",
          "Europe/Whole Grains",
          "L Am/Whole Grains",
          "N Am/Whole Grains",
          "S Asia/Whole Grains",
          "SSAfrica/Whole Grains",
          "E Asia & Oceania/eggs",
          "EMEA/eggs",
          "Europe/eggs",
          "L Am/eggs",
          "N Am/eggs",
          "S Asia/eggs",
          "SSAfrica/eggs",
          "E Asia & Oceania/milk & Dairy",
          "EMEA/milk & Dairy",
          "Europe/milk & Dairy",
          "L Am/milk & Dairy",
          "N Am/milk & Dairy",
          "S Asia/milk & Dairy",
          "SSAfrica/milk & Dairy",
          "E Asia & Oceania/nuts",
          "Europe/nuts",
          "L Am/nuts",
          "N Am/nuts",
          "S Asia/nuts",
          "SSAfrica/nuts",
          "E Asia & Oceania/read meat",
          "EMEA/read meat",
          "Europe/read meat",
          "L Am/read meat",
          "N Am/read meat",
          "SSAfrica/read meat",
          "S Asia/red meat",
          "E Asia & Oceania",
          "EMEA",
          "Europe",
          "L Am",
          "N Am",
          "S Asia",
          "SSAfrica"
         ],
         "labels": [
          "Fish & Seafood",
          "Fish & Seafood",
          "Fish & Seafood",
          "Fish & Seafood",
          "Fish & Seafood",
          "Fish & Seafood",
          "Fish & Seafood",
          "Fruit",
          "Fruit",
          "Fruit",
          "Fruit",
          "Fruit",
          "Fruit",
          "Fruit",
          "Legumes",
          "Legumes",
          "Legumes",
          "Legumes",
          "Legumes",
          "Legumes",
          "Legumes",
          "Poultry",
          "Poultry",
          "Poultry",
          "Poultry",
          "Poultry",
          "Poultry",
          "Poultry",
          "Startch Veg",
          "Startch Veg",
          "Startch Veg",
          "Startch Veg",
          "Startch Veg",
          "Startch Veg",
          "Startch Veg",
          "Vegetables",
          "Vegetables",
          "Vegetables",
          "Vegetables",
          "Vegetables",
          "Vegetables",
          "Vegetables",
          "Whole Grains",
          "Whole Grains",
          "Whole Grains",
          "Whole Grains",
          "Whole Grains",
          "Whole Grains",
          "Whole Grains",
          "eggs",
          "eggs",
          "eggs",
          "eggs",
          "eggs",
          "eggs",
          "eggs",
          "milk & Dairy",
          "milk & Dairy",
          "milk & Dairy",
          "milk & Dairy",
          "milk & Dairy",
          "milk & Dairy",
          "milk & Dairy",
          "nuts",
          "nuts",
          "nuts",
          "nuts",
          "nuts",
          "nuts",
          "read meat",
          "read meat",
          "read meat",
          "read meat",
          "read meat",
          "read meat",
          "red meat",
          "E Asia & Oceania",
          "EMEA",
          "Europe",
          "L Am",
          "N Am",
          "S Asia",
          "SSAfrica"
         ],
         "name": "",
         "parents": [
          "E Asia & Oceania",
          "EMEA",
          "Europe",
          "L Am",
          "N Am",
          "S Asia",
          "SSAfrica",
          "E Asia & Oceania",
          "EMEA",
          "Europe",
          "L Am",
          "N Am",
          "S Asia",
          "SSAfrica",
          "E Asia & Oceania",
          "EMEA",
          "Europe",
          "L Am",
          "N Am",
          "S Asia",
          "SSAfrica",
          "E Asia & Oceania",
          "EMEA",
          "Europe",
          "L Am",
          "N Am",
          "S Asia",
          "SSAfrica",
          "E Asia & Oceania",
          "EMEA",
          "Europe",
          "L Am",
          "N Am",
          "S Asia",
          "SSAfrica",
          "E Asia & Oceania",
          "EMEA",
          "Europe",
          "L Am",
          "N Am",
          "S Asia",
          "SSAfrica",
          "E Asia & Oceania",
          "EMEA",
          "Europe",
          "L Am",
          "N Am",
          "S Asia",
          "SSAfrica",
          "E Asia & Oceania",
          "EMEA",
          "Europe",
          "L Am",
          "N Am",
          "S Asia",
          "SSAfrica",
          "E Asia & Oceania",
          "EMEA",
          "Europe",
          "L Am",
          "N Am",
          "S Asia",
          "SSAfrica",
          "E Asia & Oceania",
          "Europe",
          "L Am",
          "N Am",
          "S Asia",
          "SSAfrica",
          "E Asia & Oceania",
          "EMEA",
          "Europe",
          "L Am",
          "N Am",
          "SSAfrica",
          "S Asia",
          "",
          "",
          "",
          "",
          "",
          "",
          ""
         ],
         "type": "treemap",
         "values": [
          97.12,
          5.31,
          19.82,
          7.32,
          8.75,
          9.96,
          6.72,
          311.93,
          63.11,
          176.68,
          99.5,
          46.17,
          121.89,
          63.72,
          131.35,
          16.64,
          31.52,
          36.48,
          18.77,
          118.88,
          57.76,
          39.06,
          8.66,
          27.94,
          25.85,
          23.71,
          4.48,
          4.29,
          265.96,
          29.02,
          152.05,
          58.17,
          42.27,
          85.97,
          201.25,
          675.36,
          57.31,
          163.13,
          40.05,
          44.75,
          114.6,
          34.79,
          505.6,
          88.99,
          180.75,
          97.54,
          43.79,
          267.94,
          95.54,
          45.88,
          2.54,
          14.32,
          7.59,
          5.95,
          5.28,
          1.35,
          26.09,
          43.67,
          347.9,
          125.13,
          139.84,
          125.76,
          32.62,
          2.2,
          1.12,
          0.17,
          0.47,
          0.73,
          0.16,
          92.75,
          4.67,
          54.15,
          25.14,
          24.43,
          6.07,
          4.79,
          2193.3,
          319.92,
          1169.3799999999999,
          522.9399999999999,
          398.9,
          860.28,
          504.27
         ]
        }
       ],
       "layout": {
        "legend": {
         "tracegroupgap": 0
        },
        "margin": {
         "b": 10,
         "l": 10,
         "r": 10,
         "t": 10
        },
        "template": {
         "data": {
          "bar": [
           {
            "error_x": {
             "color": "#2a3f5f"
            },
            "error_y": {
             "color": "#2a3f5f"
            },
            "marker": {
             "line": {
              "color": "#E5ECF6",
              "width": 0.5
             },
             "pattern": {
              "fillmode": "overlay",
              "size": 10,
              "solidity": 0.2
             }
            },
            "type": "bar"
           }
          ],
          "barpolar": [
           {
            "marker": {
             "line": {
              "color": "#E5ECF6",
              "width": 0.5
             },
             "pattern": {
              "fillmode": "overlay",
              "size": 10,
              "solidity": 0.2
             }
            },
            "type": "barpolar"
           }
          ],
          "carpet": [
           {
            "aaxis": {
             "endlinecolor": "#2a3f5f",
             "gridcolor": "white",
             "linecolor": "white",
             "minorgridcolor": "white",
             "startlinecolor": "#2a3f5f"
            },
            "baxis": {
             "endlinecolor": "#2a3f5f",
             "gridcolor": "white",
             "linecolor": "white",
             "minorgridcolor": "white",
             "startlinecolor": "#2a3f5f"
            },
            "type": "carpet"
           }
          ],
          "choropleth": [
           {
            "colorbar": {
             "outlinewidth": 0,
             "ticks": ""
            },
            "type": "choropleth"
           }
          ],
          "contour": [
           {
            "colorbar": {
             "outlinewidth": 0,
             "ticks": ""
            },
            "colorscale": [
             [
              0,
              "#0d0887"
             ],
             [
              0.1111111111111111,
              "#46039f"
             ],
             [
              0.2222222222222222,
              "#7201a8"
             ],
             [
              0.3333333333333333,
              "#9c179e"
             ],
             [
              0.4444444444444444,
              "#bd3786"
             ],
             [
              0.5555555555555556,
              "#d8576b"
             ],
             [
              0.6666666666666666,
              "#ed7953"
             ],
             [
              0.7777777777777778,
              "#fb9f3a"
             ],
             [
              0.8888888888888888,
              "#fdca26"
             ],
             [
              1,
              "#f0f921"
             ]
            ],
            "type": "contour"
           }
          ],
          "contourcarpet": [
           {
            "colorbar": {
             "outlinewidth": 0,
             "ticks": ""
            },
            "type": "contourcarpet"
           }
          ],
          "heatmap": [
           {
            "colorbar": {
             "outlinewidth": 0,
             "ticks": ""
            },
            "colorscale": [
             [
              0,
              "#0d0887"
             ],
             [
              0.1111111111111111,
              "#46039f"
             ],
             [
              0.2222222222222222,
              "#7201a8"
             ],
             [
              0.3333333333333333,
              "#9c179e"
             ],
             [
              0.4444444444444444,
              "#bd3786"
             ],
             [
              0.5555555555555556,
              "#d8576b"
             ],
             [
              0.6666666666666666,
              "#ed7953"
             ],
             [
              0.7777777777777778,
              "#fb9f3a"
             ],
             [
              0.8888888888888888,
              "#fdca26"
             ],
             [
              1,
              "#f0f921"
             ]
            ],
            "type": "heatmap"
           }
          ],
          "heatmapgl": [
           {
            "colorbar": {
             "outlinewidth": 0,
             "ticks": ""
            },
            "colorscale": [
             [
              0,
              "#0d0887"
             ],
             [
              0.1111111111111111,
              "#46039f"
             ],
             [
              0.2222222222222222,
              "#7201a8"
             ],
             [
              0.3333333333333333,
              "#9c179e"
             ],
             [
              0.4444444444444444,
              "#bd3786"
             ],
             [
              0.5555555555555556,
              "#d8576b"
             ],
             [
              0.6666666666666666,
              "#ed7953"
             ],
             [
              0.7777777777777778,
              "#fb9f3a"
             ],
             [
              0.8888888888888888,
              "#fdca26"
             ],
             [
              1,
              "#f0f921"
             ]
            ],
            "type": "heatmapgl"
           }
          ],
          "histogram": [
           {
            "marker": {
             "pattern": {
              "fillmode": "overlay",
              "size": 10,
              "solidity": 0.2
             }
            },
            "type": "histogram"
           }
          ],
          "histogram2d": [
           {
            "colorbar": {
             "outlinewidth": 0,
             "ticks": ""
            },
            "colorscale": [
             [
              0,
              "#0d0887"
             ],
             [
              0.1111111111111111,
              "#46039f"
             ],
             [
              0.2222222222222222,
              "#7201a8"
             ],
             [
              0.3333333333333333,
              "#9c179e"
             ],
             [
              0.4444444444444444,
              "#bd3786"
             ],
             [
              0.5555555555555556,
              "#d8576b"
             ],
             [
              0.6666666666666666,
              "#ed7953"
             ],
             [
              0.7777777777777778,
              "#fb9f3a"
             ],
             [
              0.8888888888888888,
              "#fdca26"
             ],
             [
              1,
              "#f0f921"
             ]
            ],
            "type": "histogram2d"
           }
          ],
          "histogram2dcontour": [
           {
            "colorbar": {
             "outlinewidth": 0,
             "ticks": ""
            },
            "colorscale": [
             [
              0,
              "#0d0887"
             ],
             [
              0.1111111111111111,
              "#46039f"
             ],
             [
              0.2222222222222222,
              "#7201a8"
             ],
             [
              0.3333333333333333,
              "#9c179e"
             ],
             [
              0.4444444444444444,
              "#bd3786"
             ],
             [
              0.5555555555555556,
              "#d8576b"
             ],
             [
              0.6666666666666666,
              "#ed7953"
             ],
             [
              0.7777777777777778,
              "#fb9f3a"
             ],
             [
              0.8888888888888888,
              "#fdca26"
             ],
             [
              1,
              "#f0f921"
             ]
            ],
            "type": "histogram2dcontour"
           }
          ],
          "mesh3d": [
           {
            "colorbar": {
             "outlinewidth": 0,
             "ticks": ""
            },
            "type": "mesh3d"
           }
          ],
          "parcoords": [
           {
            "line": {
             "colorbar": {
              "outlinewidth": 0,
              "ticks": ""
             }
            },
            "type": "parcoords"
           }
          ],
          "pie": [
           {
            "automargin": true,
            "type": "pie"
           }
          ],
          "scatter": [
           {
            "fillpattern": {
             "fillmode": "overlay",
             "size": 10,
             "solidity": 0.2
            },
            "type": "scatter"
           }
          ],
          "scatter3d": [
           {
            "line": {
             "colorbar": {
              "outlinewidth": 0,
              "ticks": ""
             }
            },
            "marker": {
             "colorbar": {
              "outlinewidth": 0,
              "ticks": ""
             }
            },
            "type": "scatter3d"
           }
          ],
          "scattercarpet": [
           {
            "marker": {
             "colorbar": {
              "outlinewidth": 0,
              "ticks": ""
             }
            },
            "type": "scattercarpet"
           }
          ],
          "scattergeo": [
           {
            "marker": {
             "colorbar": {
              "outlinewidth": 0,
              "ticks": ""
             }
            },
            "type": "scattergeo"
           }
          ],
          "scattergl": [
           {
            "marker": {
             "colorbar": {
              "outlinewidth": 0,
              "ticks": ""
             }
            },
            "type": "scattergl"
           }
          ],
          "scattermapbox": [
           {
            "marker": {
             "colorbar": {
              "outlinewidth": 0,
              "ticks": ""
             }
            },
            "type": "scattermapbox"
           }
          ],
          "scatterpolar": [
           {
            "marker": {
             "colorbar": {
              "outlinewidth": 0,
              "ticks": ""
             }
            },
            "type": "scatterpolar"
           }
          ],
          "scatterpolargl": [
           {
            "marker": {
             "colorbar": {
              "outlinewidth": 0,
              "ticks": ""
             }
            },
            "type": "scatterpolargl"
           }
          ],
          "scatterternary": [
           {
            "marker": {
             "colorbar": {
              "outlinewidth": 0,
              "ticks": ""
             }
            },
            "type": "scatterternary"
           }
          ],
          "surface": [
           {
            "colorbar": {
             "outlinewidth": 0,
             "ticks": ""
            },
            "colorscale": [
             [
              0,
              "#0d0887"
             ],
             [
              0.1111111111111111,
              "#46039f"
             ],
             [
              0.2222222222222222,
              "#7201a8"
             ],
             [
              0.3333333333333333,
              "#9c179e"
             ],
             [
              0.4444444444444444,
              "#bd3786"
             ],
             [
              0.5555555555555556,
              "#d8576b"
             ],
             [
              0.6666666666666666,
              "#ed7953"
             ],
             [
              0.7777777777777778,
              "#fb9f3a"
             ],
             [
              0.8888888888888888,
              "#fdca26"
             ],
             [
              1,
              "#f0f921"
             ]
            ],
            "type": "surface"
           }
          ],
          "table": [
           {
            "cells": {
             "fill": {
              "color": "#EBF0F8"
             },
             "line": {
              "color": "white"
             }
            },
            "header": {
             "fill": {
              "color": "#C8D4E3"
             },
             "line": {
              "color": "white"
             }
            },
            "type": "table"
           }
          ]
         },
         "layout": {
          "annotationdefaults": {
           "arrowcolor": "#2a3f5f",
           "arrowhead": 0,
           "arrowwidth": 1
          },
          "autotypenumbers": "strict",
          "coloraxis": {
           "colorbar": {
            "outlinewidth": 0,
            "ticks": ""
           }
          },
          "colorscale": {
           "diverging": [
            [
             0,
             "#8e0152"
            ],
            [
             0.1,
             "#c51b7d"
            ],
            [
             0.2,
             "#de77ae"
            ],
            [
             0.3,
             "#f1b6da"
            ],
            [
             0.4,
             "#fde0ef"
            ],
            [
             0.5,
             "#f7f7f7"
            ],
            [
             0.6,
             "#e6f5d0"
            ],
            [
             0.7,
             "#b8e186"
            ],
            [
             0.8,
             "#7fbc41"
            ],
            [
             0.9,
             "#4d9221"
            ],
            [
             1,
             "#276419"
            ]
           ],
           "sequential": [
            [
             0,
             "#0d0887"
            ],
            [
             0.1111111111111111,
             "#46039f"
            ],
            [
             0.2222222222222222,
             "#7201a8"
            ],
            [
             0.3333333333333333,
             "#9c179e"
            ],
            [
             0.4444444444444444,
             "#bd3786"
            ],
            [
             0.5555555555555556,
             "#d8576b"
            ],
            [
             0.6666666666666666,
             "#ed7953"
            ],
            [
             0.7777777777777778,
             "#fb9f3a"
            ],
            [
             0.8888888888888888,
             "#fdca26"
            ],
            [
             1,
             "#f0f921"
            ]
           ],
           "sequentialminus": [
            [
             0,
             "#0d0887"
            ],
            [
             0.1111111111111111,
             "#46039f"
            ],
            [
             0.2222222222222222,
             "#7201a8"
            ],
            [
             0.3333333333333333,
             "#9c179e"
            ],
            [
             0.4444444444444444,
             "#bd3786"
            ],
            [
             0.5555555555555556,
             "#d8576b"
            ],
            [
             0.6666666666666666,
             "#ed7953"
            ],
            [
             0.7777777777777778,
             "#fb9f3a"
            ],
            [
             0.8888888888888888,
             "#fdca26"
            ],
            [
             1,
             "#f0f921"
            ]
           ]
          },
          "colorway": [
           "#636efa",
           "#EF553B",
           "#00cc96",
           "#ab63fa",
           "#FFA15A",
           "#19d3f3",
           "#FF6692",
           "#B6E880",
           "#FF97FF",
           "#FECB52"
          ],
          "font": {
           "color": "#2a3f5f"
          },
          "geo": {
           "bgcolor": "white",
           "lakecolor": "white",
           "landcolor": "#E5ECF6",
           "showlakes": true,
           "showland": true,
           "subunitcolor": "white"
          },
          "hoverlabel": {
           "align": "left"
          },
          "hovermode": "closest",
          "mapbox": {
           "style": "light"
          },
          "paper_bgcolor": "white",
          "plot_bgcolor": "#E5ECF6",
          "polar": {
           "angularaxis": {
            "gridcolor": "white",
            "linecolor": "white",
            "ticks": ""
           },
           "bgcolor": "#E5ECF6",
           "radialaxis": {
            "gridcolor": "white",
            "linecolor": "white",
            "ticks": ""
           }
          },
          "scene": {
           "xaxis": {
            "backgroundcolor": "#E5ECF6",
            "gridcolor": "white",
            "gridwidth": 2,
            "linecolor": "white",
            "showbackground": true,
            "ticks": "",
            "zerolinecolor": "white"
           },
           "yaxis": {
            "backgroundcolor": "#E5ECF6",
            "gridcolor": "white",
            "gridwidth": 2,
            "linecolor": "white",
            "showbackground": true,
            "ticks": "",
            "zerolinecolor": "white"
           },
           "zaxis": {
            "backgroundcolor": "#E5ECF6",
            "gridcolor": "white",
            "gridwidth": 2,
            "linecolor": "white",
            "showbackground": true,
            "ticks": "",
            "zerolinecolor": "white"
           }
          },
          "shapedefaults": {
           "line": {
            "color": "#2a3f5f"
           }
          },
          "ternary": {
           "aaxis": {
            "gridcolor": "white",
            "linecolor": "white",
            "ticks": ""
           },
           "baxis": {
            "gridcolor": "white",
            "linecolor": "white",
            "ticks": ""
           },
           "bgcolor": "#E5ECF6",
           "caxis": {
            "gridcolor": "white",
            "linecolor": "white",
            "ticks": ""
           }
          },
          "title": {
           "x": 0.05
          },
          "xaxis": {
           "automargin": true,
           "gridcolor": "white",
           "linecolor": "white",
           "ticks": "",
           "title": {
            "standoff": 15
           },
           "zerolinecolor": "white",
           "zerolinewidth": 2
          },
          "yaxis": {
           "automargin": true,
           "gridcolor": "white",
           "linecolor": "white",
           "ticks": "",
           "title": {
            "standoff": 15
           },
           "zerolinecolor": "white",
           "zerolinewidth": 2
          }
         }
        }
       }
      },
      "text/html": [
       "<div>                            <div id=\"cbc8ec8e-a717-410c-b1fd-e9603f5e91b0\" class=\"plotly-graph-div\" style=\"height:525px; width:100%;\"></div>            <script type=\"text/javascript\">                require([\"plotly\"], function(Plotly) {                    window.PLOTLYENV=window.PLOTLYENV || {};                                    if (document.getElementById(\"cbc8ec8e-a717-410c-b1fd-e9603f5e91b0\")) {                    Plotly.newPlot(                        \"cbc8ec8e-a717-410c-b1fd-e9603f5e91b0\",                        [{\"branchvalues\":\"total\",\"domain\":{\"x\":[0.0,1.0],\"y\":[0.0,1.0]},\"hovertemplate\":\"labels=%{label}<br>total adjusted supply=%{value}<br>parent=%{parent}<br>id=%{id}<extra></extra>\",\"ids\":[\"E Asia & Oceania/Fish & Seafood\",\"EMEA/Fish & Seafood\",\"Europe/Fish & Seafood\",\"L Am/Fish & Seafood\",\"N Am/Fish & Seafood\",\"S Asia/Fish & Seafood\",\"SSAfrica/Fish & Seafood\",\"E Asia & Oceania/Fruit\",\"EMEA/Fruit\",\"Europe/Fruit\",\"L Am/Fruit\",\"N Am/Fruit\",\"S Asia/Fruit\",\"SSAfrica/Fruit\",\"E Asia & Oceania/Legumes\",\"EMEA/Legumes\",\"Europe/Legumes\",\"L Am/Legumes\",\"N Am/Legumes\",\"S Asia/Legumes\",\"SSAfrica/Legumes\",\"E Asia & Oceania/Poultry\",\"EMEA/Poultry\",\"Europe/Poultry\",\"L Am/Poultry\",\"N Am/Poultry\",\"S Asia/Poultry\",\"SSAfrica/Poultry\",\"E Asia & Oceania/Startch Veg\",\"EMEA/Startch Veg\",\"Europe/Startch Veg\",\"L Am/Startch Veg\",\"N Am/Startch Veg\",\"S Asia/Startch Veg\",\"SSAfrica/Startch Veg\",\"E Asia & Oceania/Vegetables\",\"EMEA/Vegetables\",\"Europe/Vegetables\",\"L Am/Vegetables\",\"N Am/Vegetables\",\"S Asia/Vegetables\",\"SSAfrica/Vegetables\",\"E Asia & Oceania/Whole Grains\",\"EMEA/Whole Grains\",\"Europe/Whole Grains\",\"L Am/Whole Grains\",\"N Am/Whole Grains\",\"S Asia/Whole Grains\",\"SSAfrica/Whole Grains\",\"E Asia & Oceania/eggs\",\"EMEA/eggs\",\"Europe/eggs\",\"L Am/eggs\",\"N Am/eggs\",\"S Asia/eggs\",\"SSAfrica/eggs\",\"E Asia & Oceania/milk & Dairy\",\"EMEA/milk & Dairy\",\"Europe/milk & Dairy\",\"L Am/milk & Dairy\",\"N Am/milk & Dairy\",\"S Asia/milk & Dairy\",\"SSAfrica/milk & Dairy\",\"E Asia & Oceania/nuts\",\"Europe/nuts\",\"L Am/nuts\",\"N Am/nuts\",\"S Asia/nuts\",\"SSAfrica/nuts\",\"E Asia & Oceania/read meat\",\"EMEA/read meat\",\"Europe/read meat\",\"L Am/read meat\",\"N Am/read meat\",\"SSAfrica/read meat\",\"S Asia/red meat\",\"E Asia & Oceania\",\"EMEA\",\"Europe\",\"L Am\",\"N Am\",\"S Asia\",\"SSAfrica\"],\"labels\":[\"Fish & Seafood\",\"Fish & Seafood\",\"Fish & Seafood\",\"Fish & Seafood\",\"Fish & Seafood\",\"Fish & Seafood\",\"Fish & Seafood\",\"Fruit\",\"Fruit\",\"Fruit\",\"Fruit\",\"Fruit\",\"Fruit\",\"Fruit\",\"Legumes\",\"Legumes\",\"Legumes\",\"Legumes\",\"Legumes\",\"Legumes\",\"Legumes\",\"Poultry\",\"Poultry\",\"Poultry\",\"Poultry\",\"Poultry\",\"Poultry\",\"Poultry\",\"Startch Veg\",\"Startch Veg\",\"Startch Veg\",\"Startch Veg\",\"Startch Veg\",\"Startch Veg\",\"Startch Veg\",\"Vegetables\",\"Vegetables\",\"Vegetables\",\"Vegetables\",\"Vegetables\",\"Vegetables\",\"Vegetables\",\"Whole Grains\",\"Whole Grains\",\"Whole Grains\",\"Whole Grains\",\"Whole Grains\",\"Whole Grains\",\"Whole Grains\",\"eggs\",\"eggs\",\"eggs\",\"eggs\",\"eggs\",\"eggs\",\"eggs\",\"milk & Dairy\",\"milk & Dairy\",\"milk & Dairy\",\"milk & Dairy\",\"milk & Dairy\",\"milk & Dairy\",\"milk & Dairy\",\"nuts\",\"nuts\",\"nuts\",\"nuts\",\"nuts\",\"nuts\",\"read meat\",\"read meat\",\"read meat\",\"read meat\",\"read meat\",\"read meat\",\"red meat\",\"E Asia & Oceania\",\"EMEA\",\"Europe\",\"L Am\",\"N Am\",\"S Asia\",\"SSAfrica\"],\"name\":\"\",\"parents\":[\"E Asia & Oceania\",\"EMEA\",\"Europe\",\"L Am\",\"N Am\",\"S Asia\",\"SSAfrica\",\"E Asia & Oceania\",\"EMEA\",\"Europe\",\"L Am\",\"N Am\",\"S Asia\",\"SSAfrica\",\"E Asia & Oceania\",\"EMEA\",\"Europe\",\"L Am\",\"N Am\",\"S Asia\",\"SSAfrica\",\"E Asia & Oceania\",\"EMEA\",\"Europe\",\"L Am\",\"N Am\",\"S Asia\",\"SSAfrica\",\"E Asia & Oceania\",\"EMEA\",\"Europe\",\"L Am\",\"N Am\",\"S Asia\",\"SSAfrica\",\"E Asia & Oceania\",\"EMEA\",\"Europe\",\"L Am\",\"N Am\",\"S Asia\",\"SSAfrica\",\"E Asia & Oceania\",\"EMEA\",\"Europe\",\"L Am\",\"N Am\",\"S Asia\",\"SSAfrica\",\"E Asia & Oceania\",\"EMEA\",\"Europe\",\"L Am\",\"N Am\",\"S Asia\",\"SSAfrica\",\"E Asia & Oceania\",\"EMEA\",\"Europe\",\"L Am\",\"N Am\",\"S Asia\",\"SSAfrica\",\"E Asia & Oceania\",\"Europe\",\"L Am\",\"N Am\",\"S Asia\",\"SSAfrica\",\"E Asia & Oceania\",\"EMEA\",\"Europe\",\"L Am\",\"N Am\",\"SSAfrica\",\"S Asia\",\"\",\"\",\"\",\"\",\"\",\"\",\"\"],\"values\":[97.12,5.31,19.82,7.32,8.75,9.96,6.72,311.93,63.11,176.68,99.5,46.17,121.89,63.72,131.35,16.64,31.52,36.48,18.77,118.88,57.76,39.06,8.66,27.94,25.85,23.71,4.48,4.29,265.96,29.02,152.05,58.17,42.27,85.97,201.25,675.36,57.31,163.13,40.05,44.75,114.6,34.79,505.6,88.99,180.75,97.54,43.79,267.94,95.54,45.88,2.54,14.32,7.59,5.95,5.28,1.35,26.09,43.67,347.9,125.13,139.84,125.76,32.62,2.2,1.12,0.17,0.47,0.73,0.16,92.75,4.67,54.15,25.14,24.43,6.07,4.79,2193.3,319.92,1169.3799999999999,522.9399999999999,398.9,860.28,504.27],\"type\":\"treemap\"}],                        {\"template\":{\"data\":{\"histogram2dcontour\":[{\"type\":\"histogram2dcontour\",\"colorbar\":{\"outlinewidth\":0,\"ticks\":\"\"},\"colorscale\":[[0.0,\"#0d0887\"],[0.1111111111111111,\"#46039f\"],[0.2222222222222222,\"#7201a8\"],[0.3333333333333333,\"#9c179e\"],[0.4444444444444444,\"#bd3786\"],[0.5555555555555556,\"#d8576b\"],[0.6666666666666666,\"#ed7953\"],[0.7777777777777778,\"#fb9f3a\"],[0.8888888888888888,\"#fdca26\"],[1.0,\"#f0f921\"]]}],\"choropleth\":[{\"type\":\"choropleth\",\"colorbar\":{\"outlinewidth\":0,\"ticks\":\"\"}}],\"histogram2d\":[{\"type\":\"histogram2d\",\"colorbar\":{\"outlinewidth\":0,\"ticks\":\"\"},\"colorscale\":[[0.0,\"#0d0887\"],[0.1111111111111111,\"#46039f\"],[0.2222222222222222,\"#7201a8\"],[0.3333333333333333,\"#9c179e\"],[0.4444444444444444,\"#bd3786\"],[0.5555555555555556,\"#d8576b\"],[0.6666666666666666,\"#ed7953\"],[0.7777777777777778,\"#fb9f3a\"],[0.8888888888888888,\"#fdca26\"],[1.0,\"#f0f921\"]]}],\"heatmap\":[{\"type\":\"heatmap\",\"colorbar\":{\"outlinewidth\":0,\"ticks\":\"\"},\"colorscale\":[[0.0,\"#0d0887\"],[0.1111111111111111,\"#46039f\"],[0.2222222222222222,\"#7201a8\"],[0.3333333333333333,\"#9c179e\"],[0.4444444444444444,\"#bd3786\"],[0.5555555555555556,\"#d8576b\"],[0.6666666666666666,\"#ed7953\"],[0.7777777777777778,\"#fb9f3a\"],[0.8888888888888888,\"#fdca26\"],[1.0,\"#f0f921\"]]}],\"heatmapgl\":[{\"type\":\"heatmapgl\",\"colorbar\":{\"outlinewidth\":0,\"ticks\":\"\"},\"colorscale\":[[0.0,\"#0d0887\"],[0.1111111111111111,\"#46039f\"],[0.2222222222222222,\"#7201a8\"],[0.3333333333333333,\"#9c179e\"],[0.4444444444444444,\"#bd3786\"],[0.5555555555555556,\"#d8576b\"],[0.6666666666666666,\"#ed7953\"],[0.7777777777777778,\"#fb9f3a\"],[0.8888888888888888,\"#fdca26\"],[1.0,\"#f0f921\"]]}],\"contourcarpet\":[{\"type\":\"contourcarpet\",\"colorbar\":{\"outlinewidth\":0,\"ticks\":\"\"}}],\"contour\":[{\"type\":\"contour\",\"colorbar\":{\"outlinewidth\":0,\"ticks\":\"\"},\"colorscale\":[[0.0,\"#0d0887\"],[0.1111111111111111,\"#46039f\"],[0.2222222222222222,\"#7201a8\"],[0.3333333333333333,\"#9c179e\"],[0.4444444444444444,\"#bd3786\"],[0.5555555555555556,\"#d8576b\"],[0.6666666666666666,\"#ed7953\"],[0.7777777777777778,\"#fb9f3a\"],[0.8888888888888888,\"#fdca26\"],[1.0,\"#f0f921\"]]}],\"surface\":[{\"type\":\"surface\",\"colorbar\":{\"outlinewidth\":0,\"ticks\":\"\"},\"colorscale\":[[0.0,\"#0d0887\"],[0.1111111111111111,\"#46039f\"],[0.2222222222222222,\"#7201a8\"],[0.3333333333333333,\"#9c179e\"],[0.4444444444444444,\"#bd3786\"],[0.5555555555555556,\"#d8576b\"],[0.6666666666666666,\"#ed7953\"],[0.7777777777777778,\"#fb9f3a\"],[0.8888888888888888,\"#fdca26\"],[1.0,\"#f0f921\"]]}],\"mesh3d\":[{\"type\":\"mesh3d\",\"colorbar\":{\"outlinewidth\":0,\"ticks\":\"\"}}],\"scatter\":[{\"fillpattern\":{\"fillmode\":\"overlay\",\"size\":10,\"solidity\":0.2},\"type\":\"scatter\"}],\"parcoords\":[{\"type\":\"parcoords\",\"line\":{\"colorbar\":{\"outlinewidth\":0,\"ticks\":\"\"}}}],\"scatterpolargl\":[{\"type\":\"scatterpolargl\",\"marker\":{\"colorbar\":{\"outlinewidth\":0,\"ticks\":\"\"}}}],\"bar\":[{\"error_x\":{\"color\":\"#2a3f5f\"},\"error_y\":{\"color\":\"#2a3f5f\"},\"marker\":{\"line\":{\"color\":\"#E5ECF6\",\"width\":0.5},\"pattern\":{\"fillmode\":\"overlay\",\"size\":10,\"solidity\":0.2}},\"type\":\"bar\"}],\"scattergeo\":[{\"type\":\"scattergeo\",\"marker\":{\"colorbar\":{\"outlinewidth\":0,\"ticks\":\"\"}}}],\"scatterpolar\":[{\"type\":\"scatterpolar\",\"marker\":{\"colorbar\":{\"outlinewidth\":0,\"ticks\":\"\"}}}],\"histogram\":[{\"marker\":{\"pattern\":{\"fillmode\":\"overlay\",\"size\":10,\"solidity\":0.2}},\"type\":\"histogram\"}],\"scattergl\":[{\"type\":\"scattergl\",\"marker\":{\"colorbar\":{\"outlinewidth\":0,\"ticks\":\"\"}}}],\"scatter3d\":[{\"type\":\"scatter3d\",\"line\":{\"colorbar\":{\"outlinewidth\":0,\"ticks\":\"\"}},\"marker\":{\"colorbar\":{\"outlinewidth\":0,\"ticks\":\"\"}}}],\"scattermapbox\":[{\"type\":\"scattermapbox\",\"marker\":{\"colorbar\":{\"outlinewidth\":0,\"ticks\":\"\"}}}],\"scatterternary\":[{\"type\":\"scatterternary\",\"marker\":{\"colorbar\":{\"outlinewidth\":0,\"ticks\":\"\"}}}],\"scattercarpet\":[{\"type\":\"scattercarpet\",\"marker\":{\"colorbar\":{\"outlinewidth\":0,\"ticks\":\"\"}}}],\"carpet\":[{\"aaxis\":{\"endlinecolor\":\"#2a3f5f\",\"gridcolor\":\"white\",\"linecolor\":\"white\",\"minorgridcolor\":\"white\",\"startlinecolor\":\"#2a3f5f\"},\"baxis\":{\"endlinecolor\":\"#2a3f5f\",\"gridcolor\":\"white\",\"linecolor\":\"white\",\"minorgridcolor\":\"white\",\"startlinecolor\":\"#2a3f5f\"},\"type\":\"carpet\"}],\"table\":[{\"cells\":{\"fill\":{\"color\":\"#EBF0F8\"},\"line\":{\"color\":\"white\"}},\"header\":{\"fill\":{\"color\":\"#C8D4E3\"},\"line\":{\"color\":\"white\"}},\"type\":\"table\"}],\"barpolar\":[{\"marker\":{\"line\":{\"color\":\"#E5ECF6\",\"width\":0.5},\"pattern\":{\"fillmode\":\"overlay\",\"size\":10,\"solidity\":0.2}},\"type\":\"barpolar\"}],\"pie\":[{\"automargin\":true,\"type\":\"pie\"}]},\"layout\":{\"autotypenumbers\":\"strict\",\"colorway\":[\"#636efa\",\"#EF553B\",\"#00cc96\",\"#ab63fa\",\"#FFA15A\",\"#19d3f3\",\"#FF6692\",\"#B6E880\",\"#FF97FF\",\"#FECB52\"],\"font\":{\"color\":\"#2a3f5f\"},\"hovermode\":\"closest\",\"hoverlabel\":{\"align\":\"left\"},\"paper_bgcolor\":\"white\",\"plot_bgcolor\":\"#E5ECF6\",\"polar\":{\"bgcolor\":\"#E5ECF6\",\"angularaxis\":{\"gridcolor\":\"white\",\"linecolor\":\"white\",\"ticks\":\"\"},\"radialaxis\":{\"gridcolor\":\"white\",\"linecolor\":\"white\",\"ticks\":\"\"}},\"ternary\":{\"bgcolor\":\"#E5ECF6\",\"aaxis\":{\"gridcolor\":\"white\",\"linecolor\":\"white\",\"ticks\":\"\"},\"baxis\":{\"gridcolor\":\"white\",\"linecolor\":\"white\",\"ticks\":\"\"},\"caxis\":{\"gridcolor\":\"white\",\"linecolor\":\"white\",\"ticks\":\"\"}},\"coloraxis\":{\"colorbar\":{\"outlinewidth\":0,\"ticks\":\"\"}},\"colorscale\":{\"sequential\":[[0.0,\"#0d0887\"],[0.1111111111111111,\"#46039f\"],[0.2222222222222222,\"#7201a8\"],[0.3333333333333333,\"#9c179e\"],[0.4444444444444444,\"#bd3786\"],[0.5555555555555556,\"#d8576b\"],[0.6666666666666666,\"#ed7953\"],[0.7777777777777778,\"#fb9f3a\"],[0.8888888888888888,\"#fdca26\"],[1.0,\"#f0f921\"]],\"sequentialminus\":[[0.0,\"#0d0887\"],[0.1111111111111111,\"#46039f\"],[0.2222222222222222,\"#7201a8\"],[0.3333333333333333,\"#9c179e\"],[0.4444444444444444,\"#bd3786\"],[0.5555555555555556,\"#d8576b\"],[0.6666666666666666,\"#ed7953\"],[0.7777777777777778,\"#fb9f3a\"],[0.8888888888888888,\"#fdca26\"],[1.0,\"#f0f921\"]],\"diverging\":[[0,\"#8e0152\"],[0.1,\"#c51b7d\"],[0.2,\"#de77ae\"],[0.3,\"#f1b6da\"],[0.4,\"#fde0ef\"],[0.5,\"#f7f7f7\"],[0.6,\"#e6f5d0\"],[0.7,\"#b8e186\"],[0.8,\"#7fbc41\"],[0.9,\"#4d9221\"],[1,\"#276419\"]]},\"xaxis\":{\"gridcolor\":\"white\",\"linecolor\":\"white\",\"ticks\":\"\",\"title\":{\"standoff\":15},\"zerolinecolor\":\"white\",\"automargin\":true,\"zerolinewidth\":2},\"yaxis\":{\"gridcolor\":\"white\",\"linecolor\":\"white\",\"ticks\":\"\",\"title\":{\"standoff\":15},\"zerolinecolor\":\"white\",\"automargin\":true,\"zerolinewidth\":2},\"scene\":{\"xaxis\":{\"backgroundcolor\":\"#E5ECF6\",\"gridcolor\":\"white\",\"linecolor\":\"white\",\"showbackground\":true,\"ticks\":\"\",\"zerolinecolor\":\"white\",\"gridwidth\":2},\"yaxis\":{\"backgroundcolor\":\"#E5ECF6\",\"gridcolor\":\"white\",\"linecolor\":\"white\",\"showbackground\":true,\"ticks\":\"\",\"zerolinecolor\":\"white\",\"gridwidth\":2},\"zaxis\":{\"backgroundcolor\":\"#E5ECF6\",\"gridcolor\":\"white\",\"linecolor\":\"white\",\"showbackground\":true,\"ticks\":\"\",\"zerolinecolor\":\"white\",\"gridwidth\":2}},\"shapedefaults\":{\"line\":{\"color\":\"#2a3f5f\"}},\"annotationdefaults\":{\"arrowcolor\":\"#2a3f5f\",\"arrowhead\":0,\"arrowwidth\":1},\"geo\":{\"bgcolor\":\"white\",\"landcolor\":\"#E5ECF6\",\"subunitcolor\":\"white\",\"showland\":true,\"showlakes\":true,\"lakecolor\":\"white\"},\"title\":{\"x\":0.05},\"mapbox\":{\"style\":\"light\"}}},\"legend\":{\"tracegroupgap\":0},\"margin\":{\"t\":10,\"l\":10,\"r\":10,\"b\":10}},                        {\"responsive\": true}                    ).then(function(){\n",
       "                            \n",
       "var gd = document.getElementById('cbc8ec8e-a717-410c-b1fd-e9603f5e91b0');\n",
       "var x = new MutationObserver(function (mutations, observer) {{\n",
       "        var display = window.getComputedStyle(gd).display;\n",
       "        if (!display || display === 'none') {{\n",
       "            console.log([gd, 'removed!']);\n",
       "            Plotly.purge(gd);\n",
       "            observer.disconnect();\n",
       "        }}\n",
       "}});\n",
       "\n",
       "// Listen for the removal of the full notebook cells\n",
       "var notebookContainer = gd.closest('#notebook-container');\n",
       "if (notebookContainer) {{\n",
       "    x.observe(notebookContainer, {childList: true});\n",
       "}}\n",
       "\n",
       "// Listen for the clearing of the current output cell\n",
       "var outputEl = gd.closest('.output');\n",
       "if (outputEl) {{\n",
       "    x.observe(outputEl, {childList: true});\n",
       "}}\n",
       "\n",
       "                        })                };                });            </script>        </div>"
      ]
     },
     "metadata": {},
     "output_type": "display_data"
    }
   ],
   "source": [
    "# 1. Treemap: cargamos las librerías necesarias. Plotly es la única que no viene instalada por defecto,\n",
    "#    por lo que es posible que sea necesario añadir una directiva '! pip install plotly.express' antes de ejecutar\n",
    "#    esta celda.\n",
    "\n",
    "import plotly.express as px\n",
    "import pandas as pd\n",
    "import numpy as np\n",
    "from collections import defaultdict\n",
    "\n",
    "df_treemap = pd.read_csv('./treemap.csv', sep=';')\n",
    "\n",
    "fig = px.treemap(df_treemap, path=['region', 'food'], values='total adjusted supply')\n",
    "fig.update_layout(margin = dict(t=10, l=10, r=10, b=10))\n",
    "fig.show()"
   ]
  },
  {
   "cell_type": "code",
   "execution_count": 190,
   "id": "5c2e643d",
   "metadata": {},
   "outputs": [
    {
     "data": {
      "image/png": "[encoded data removed]",
      "text/plain": [
       "<Figure size 576x576 with 1 Axes>"
      ]
     },
     "metadata": {
      "needs_background": "light"
     },
     "output_type": "display_data"
    }
   ],
   "source": [
    "# 2. Dot matrix chart: dado que no se han encontrado librerías que generen dot matrix charts de forma más sofisticada,\n",
    "#    realizaremos una simple matriz de puntos 10x10\n",
    "\n",
    "# Inicialización de variables y lectura de datos\n",
    "\n",
    "fig = plt.figure(figsize=(8, 8))\n",
    "df_dot_matrix = pd.read_csv('./dot matrix plot.csv', sep=';')\n",
    "x = []\n",
    "y = []\n",
    "color = []\n",
    "labels = ['Male', 'Female']\n",
    "iteration = 0\n",
    "\n",
    "# Cuerpo de la iteración: pintamos cada punto según su categoría\n",
    "\n",
    "for i in range(10):\n",
    "    for j in range(10):\n",
    "        x.append(i)\n",
    "        y.append(j)\n",
    "        c = 'blue' if i*10 + j < 100 - df_dot_matrix['% Female'][0] else 'red'\n",
    "        color.append(c)\n",
    "        \n",
    "plt.scatter(x, y, s=1200, c=color)\n",
    "\n",
    "\n",
    "plt.figtext(0.27, 0.90, \"Male\", fontsize=16, color='b', ha ='right')\n",
    "plt.figtext(0.33, 0.90, \"Female\", fontsize=16, color='r', ha ='left')\n",
    "plt.figtext(0.30, 0.90, ' to ', fontsize=16, color='k', ha ='center')\n",
    "plt.figtext(0.43, 0.90, ' employees in Apple company', fontsize=16, color='k', ha ='left')\n",
    "\n",
    "plt.axis('off')\n",
    "\n",
    "plt.show()"
   ]
  },
  {
   "cell_type": "code",
   "execution_count": 191,
   "id": "60940f96",
   "metadata": {},
   "outputs": [
    {
     "data": {
      "text/plain": [
       "Text(0, 0.5, 'Category')"
      ]
     },
     "execution_count": 191,
     "metadata": {},
     "output_type": "execute_result"
    },
    {
     "data": {
      "image/png": "[encoded data removed]",
      "text/plain": [
       "<Figure size 720x540 with 1 Axes>"
      ]
     },
     "metadata": {
      "needs_background": "light"
     },
     "output_type": "display_data"
    }
   ],
   "source": [
    "# 3. Rain cloud plot: seaborn y ptitprince seguramente deban ser instaladas aparte, de nuevo usando '! pip install $package'\n",
    "\n",
    "import ptitprince as pt\n",
    "import seaborn as sns\n",
    "\n",
    "# Cargamos los datos y realizamos algunas operaciones básicas de limpieza de datos\n",
    "\n",
    "df_rain_cloud = pd.read_csv('./open_units.csv')\n",
    "df_rain_cloud = df_rain_cloud[(df_rain_cloud['volume'] == 330) & (df_rain_cloud['package'] == 'bottle')]\n",
    "\n",
    "f, ax = plt.subplots(figsize=(10, 7.5))\n",
    "ax = pt.half_violinplot(x=\"abv\", y=\"category\", data=df_rain_cloud, width = .6)\n",
    "ax = sns.stripplot(x=\"abv\", y=\"category\", data=df_rain_cloud)\n",
    "ax.set_title(\"ABV distribution per drink category\", size=20)\n",
    "ax.set_xlabel(\"ABV\", size=15)\n",
    "ax.set_ylabel(\"Category\", size=15)"
   ]
  }
 ],
 "metadata": {
  "kernelspec": {
   "display_name": "Python 3 (ipykernel)",
   "language": "python",
   "name": "python3"
  },
  "language_info": {
   "codemirror_mode": {
    "name": "ipython",
    "version": 3
   },
   "file_extension": ".py",
   "mimetype": "text/x-python",
   "name": "python",
   "nbconvert_exporter": "python",
   "pygments_lexer": "ipython3",
   "version": "3.9.7"
  }
 },
 "nbformat": 4,
 "nbformat_minor": 5
}
